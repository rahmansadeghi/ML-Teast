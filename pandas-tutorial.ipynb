{
 "cells": [
  {
   "cell_type": "code",
   "execution_count": 101,
   "id": "2292173a",
   "metadata": {},
   "outputs": [
    {
     "data": {
      "text/plain": [
       "row1    1\n",
       "row2    2\n",
       "row3    3\n",
       "row4    4\n",
       "row5    5\n",
       "dtype: int8"
      ]
     },
     "execution_count": 101,
     "metadata": {},
     "output_type": "execute_result"
    }
   ],
   "source": [
    "#از کتابخوانه پانداس بیشتر به عنوان یک دیتا استراکتچر استفاده می شود که به ما این قابلیت را می دهد تا اطلاعاتی که دارید را\n",
    "#به صورت دلخواه در سطرها و ستونهای آن نگهداری کنیم\n",
    "# انواع دیتا استراکتچرها عبارت انداز:\n",
    "#pandas.series\n",
    "#سری ها دیتا استراکتچرهایی یک بعدی هستند و بیشتر برای نگهداری سری ها زمانی استفاده می‌شود و این قابلیت را دارد که برای هر سطر\n",
    "#برچسب ایجاد کند\n",
    "\n",
    "#برای به وجود آوردن سری ها در کدهای خود از عبارت زیر استفاده می کنیم\n",
    "#pandas.series()\n",
    "\n",
    "import pandas as pd\n",
    "my_series = pd.Series([1,2,3,4,5], index=['row1','row2','row3','row4','row5'], dtype='int8')\n",
    "my_series"
   ]
  },
  {
   "cell_type": "code",
   "execution_count": 102,
   "id": "123ce1c1",
   "metadata": {},
   "outputs": [
    {
     "data": {
      "text/plain": [
       "2"
      ]
     },
     "execution_count": 102,
     "metadata": {},
     "output_type": "execute_result"
    }
   ],
   "source": [
    "#for see value =>my_series.value and for see your labels =>my_series.index\n",
    "#شما همینطور میتوانید مقادیر ستونها را با استفاده از شماره سطر یا ایندکس آن فراخوانی کنید\n",
    "my_series.row2"
   ]
  },
  {
   "cell_type": "code",
   "execution_count": 103,
   "id": "cae74392",
   "metadata": {},
   "outputs": [
    {
     "data": {
      "text/plain": [
       "2"
      ]
     },
     "execution_count": 103,
     "metadata": {},
     "output_type": "execute_result"
    }
   ],
   "source": [
    "my_series['row2']"
   ]
  },
  {
   "cell_type": "code",
   "execution_count": 96,
   "id": "0ed08dc3",
   "metadata": {},
   "outputs": [
    {
     "data": {
      "text/plain": [
       "IV    4\n",
       "V     5\n",
       "dtype: int8"
      ]
     },
     "execution_count": 96,
     "metadata": {},
     "output_type": "execute_result"
    }
   ],
   "source": [
    "#Boolean Indexing\n",
    "#برای اینکه برای مثال بخواهیم ستونهایی که دارای مقادیر بیش از 3 هستند را نمایش دهد به صورت زیر عمل می‌کنیم\n",
    "\n",
    "my_series[my_series>3]"
   ]
  },
  {
   "cell_type": "code",
   "execution_count": 95,
   "id": "5e0d46be",
   "metadata": {},
   "outputs": [
    {
     "data": {
      "text/plain": [
       "I      1\n",
       "II     2\n",
       "III    3\n",
       "IV     4\n",
       "V      5\n",
       "dtype: int8"
      ]
     },
     "execution_count": 95,
     "metadata": {},
     "output_type": "execute_result"
    }
   ],
   "source": [
    "#حالا اگر بخواهیم برچسب هارا تغییر دهیم، باید به صورت زیر عمل کنیم\n",
    "my_series.index = ['I','II','III','IV','V']\n",
    "my_series"
   ]
  },
  {
   "cell_type": "code",
   "execution_count": 94,
   "id": "48694d07",
   "metadata": {},
   "outputs": [
    {
     "data": {
      "text/html": [
       "<div>\n",
       "<style scoped>\n",
       "    .dataframe tbody tr th:only-of-type {\n",
       "        vertical-align: middle;\n",
       "    }\n",
       "\n",
       "    .dataframe tbody tr th {\n",
       "        vertical-align: top;\n",
       "    }\n",
       "\n",
       "    .dataframe thead th {\n",
       "        text-align: right;\n",
       "    }\n",
       "</style>\n",
       "<table border=\"1\" class=\"dataframe\">\n",
       "  <thead>\n",
       "    <tr style=\"text-align: right;\">\n",
       "      <th></th>\n",
       "      <th>col1</th>\n",
       "      <th>col2</th>\n",
       "      <th>col3</th>\n",
       "      <th>col4</th>\n",
       "    </tr>\n",
       "  </thead>\n",
       "  <tbody>\n",
       "    <tr>\n",
       "      <th>row1</th>\n",
       "      <td>1</td>\n",
       "      <td>5</td>\n",
       "      <td>9</td>\n",
       "      <td>13</td>\n",
       "    </tr>\n",
       "    <tr>\n",
       "      <th>row2</th>\n",
       "      <td>2</td>\n",
       "      <td>5</td>\n",
       "      <td>10</td>\n",
       "      <td>14</td>\n",
       "    </tr>\n",
       "    <tr>\n",
       "      <th>row3</th>\n",
       "      <td>3</td>\n",
       "      <td>7</td>\n",
       "      <td>11</td>\n",
       "      <td>15</td>\n",
       "    </tr>\n",
       "    <tr>\n",
       "      <th>row4</th>\n",
       "      <td>4</td>\n",
       "      <td>8</td>\n",
       "      <td>12</td>\n",
       "      <td>16</td>\n",
       "    </tr>\n",
       "  </tbody>\n",
       "</table>\n",
       "</div>"
      ],
      "text/plain": [
       "      col1  col2  col3  col4\n",
       "row1     1     5     9    13\n",
       "row2     2     5    10    14\n",
       "row3     3     7    11    15\n",
       "row4     4     8    12    16"
      ]
     },
     "execution_count": 94,
     "metadata": {},
     "output_type": "execute_result"
    }
   ],
   "source": [
    "#pandas.dataframe\n",
    "#این مدل از دبتا استراگتچرها به صورت دوبعدی بوده و بسیار پر کاربرد هستند\n",
    "#در این روش می توان برای سطرها و ستونها برچسب قرار داد که برای ذخیره و نمایش داده ها میتوانند فرمتی عالی باشند\n",
    "import numpy as np\n",
    "\n",
    "my_array = np.array([[1,5,9,13],[2,5,10,14],[3,7,11,15],[4,8,12,16]])\n",
    "my_df = pd.DataFrame(my_array, index =['row1','row2','row3','row4'], columns =['col1','col2','col3','col4'])\n",
    "my_df"
   ]
  },
  {
   "cell_type": "code",
   "execution_count": 93,
   "id": "6cbfc371",
   "metadata": {},
   "outputs": [
    {
     "data": {
      "text/html": [
       "<div>\n",
       "<style scoped>\n",
       "    .dataframe tbody tr th:only-of-type {\n",
       "        vertical-align: middle;\n",
       "    }\n",
       "\n",
       "    .dataframe tbody tr th {\n",
       "        vertical-align: top;\n",
       "    }\n",
       "\n",
       "    .dataframe thead th {\n",
       "        text-align: right;\n",
       "    }\n",
       "</style>\n",
       "<table border=\"1\" class=\"dataframe\">\n",
       "  <thead>\n",
       "    <tr style=\"text-align: right;\">\n",
       "      <th></th>\n",
       "      <th>col1</th>\n",
       "      <th>col2</th>\n",
       "      <th>col3</th>\n",
       "      <th>col4</th>\n",
       "    </tr>\n",
       "  </thead>\n",
       "  <tbody>\n",
       "    <tr>\n",
       "      <th>row1</th>\n",
       "      <td>1</td>\n",
       "      <td>5</td>\n",
       "      <td>9</td>\n",
       "      <td>13</td>\n",
       "    </tr>\n",
       "    <tr>\n",
       "      <th>row2</th>\n",
       "      <td>2</td>\n",
       "      <td>6</td>\n",
       "      <td>10</td>\n",
       "      <td>14</td>\n",
       "    </tr>\n",
       "    <tr>\n",
       "      <th>row3</th>\n",
       "      <td>3</td>\n",
       "      <td>7</td>\n",
       "      <td>11</td>\n",
       "      <td>15</td>\n",
       "    </tr>\n",
       "    <tr>\n",
       "      <th>row4</th>\n",
       "      <td>4</td>\n",
       "      <td>8</td>\n",
       "      <td>12</td>\n",
       "      <td>16</td>\n",
       "    </tr>\n",
       "  </tbody>\n",
       "</table>\n",
       "</div>"
      ],
      "text/plain": [
       "      col1  col2  col3  col4\n",
       "row1     1     5     9    13\n",
       "row2     2     6    10    14\n",
       "row3     3     7    11    15\n",
       "row4     4     8    12    16"
      ]
     },
     "execution_count": 93,
     "metadata": {},
     "output_type": "execute_result"
    }
   ],
   "source": [
    "#این کار را می‌توان با یک دیکشنری به صورت زیر نیز انجام داد\n",
    "my_dict = {'col1':[1,2,3,4], 'col2':[5,6,7,8], 'col3':[9,10,11,12], 'col4':[13,14,15,16]}\n",
    "my_df = pd.DataFrame(my_dict, index =['row1','row2','row3','row4'], columns =['col1','col2','col3','col4'])\n",
    "my_df"
   ]
  },
  {
   "cell_type": "code",
   "execution_count": 92,
   "id": "aafebe09",
   "metadata": {},
   "outputs": [
    {
     "data": {
      "text/plain": [
       "Index(['row1', 'row2', 'row3', 'row4'], dtype='object')"
      ]
     },
     "execution_count": 92,
     "metadata": {},
     "output_type": "execute_result"
    }
   ],
   "source": [
    "#برای مشاهده برچسبها از این کد استفاده کنید:                  \n",
    "my_df.index\n"
   ]
  },
  {
   "cell_type": "code",
   "execution_count": 91,
   "id": "108132ac",
   "metadata": {},
   "outputs": [
    {
     "data": {
      "text/plain": [
       "Index(['col1', 'col2', 'col3', 'col4', 'col5'], dtype='object')"
      ]
     },
     "execution_count": 91,
     "metadata": {},
     "output_type": "execute_result"
    }
   ],
   "source": [
    "#برای مشاهده ستونها از این کد استفاده کنید:                    \n",
    "my_df.columns"
   ]
  },
  {
   "cell_type": "code",
   "execution_count": 90,
   "id": "45d0a818",
   "metadata": {},
   "outputs": [
    {
     "data": {
      "text/plain": [
       "array([['1.', '5.', 9, 13, 21],\n",
       "       ['2.', '6.', 10, 14, 22],\n",
       "       ['3.', '7.', 11, 15, 23],\n",
       "       ['4.', '8.', 12, 16, 24]], dtype=object)"
      ]
     },
     "execution_count": 90,
     "metadata": {},
     "output_type": "execute_result"
    }
   ],
   "source": [
    "#برای مشاهده تنها دیتا ها نیز از این دستور استفاده می‌کنیم:      \n",
    "my_df.values"
   ]
  },
  {
   "cell_type": "code",
   "execution_count": 88,
   "id": "d9ff2a99",
   "metadata": {},
   "outputs": [
    {
     "data": {
      "text/plain": [
       "col1    1.\n",
       "col2    5.\n",
       "col3     9\n",
       "col4    13\n",
       "col5    21\n",
       "Name: row1, dtype: object"
      ]
     },
     "execution_count": 88,
     "metadata": {},
     "output_type": "execute_result"
    }
   ],
   "source": [
    "#این دیتافریم چون دوبعدی است ما می‌توانیم تمامی اطلاعات ستونها یا سطرهارا نیز به صورت زیر استخراج کنیم\n",
    "\n",
    "my_df.loc['row1'][:]"
   ]
  },
  {
   "cell_type": "code",
   "execution_count": 87,
   "id": "12dfb88d",
   "metadata": {},
   "outputs": [
    {
     "data": {
      "text/plain": [
       "'5.'"
      ]
     },
     "execution_count": 87,
     "metadata": {},
     "output_type": "execute_result"
    }
   ],
   "source": [
    "my_df.loc['row1']['col2']"
   ]
  },
  {
   "cell_type": "code",
   "execution_count": 85,
   "id": "b6c3859a",
   "metadata": {},
   "outputs": [
    {
     "data": {
      "text/plain": [
       "col1    1.\n",
       "col2    5.\n",
       "col3     9\n",
       "col4    13\n",
       "col5    21\n",
       "Name: row1, dtype: object"
      ]
     },
     "execution_count": 85,
     "metadata": {},
     "output_type": "execute_result"
    }
   ],
   "source": [
    "#اگر بخواهیم بجای اسم برچسب ها از ایندکس آنها اسنفاده کنیم باید به صورت زیر عمل کنیم\n",
    "my_df.iloc[0][:]"
   ]
  },
  {
   "cell_type": "code",
   "execution_count": 84,
   "id": "6c2b1e95",
   "metadata": {},
   "outputs": [
    {
     "data": {
      "text/plain": [
       "9"
      ]
     },
     "execution_count": 84,
     "metadata": {},
     "output_type": "execute_result"
    }
   ],
   "source": [
    "my_df.iloc[0][2]"
   ]
  },
  {
   "cell_type": "code",
   "execution_count": 86,
   "id": "bc91b3ea",
   "metadata": {},
   "outputs": [],
   "source": [
    "# اگر بخواهیم مقادیر را تغییر دهیم به صورت زیر عمل می کنیم:\n",
    "my_df['col5']=[21,22,23,24]"
   ]
  },
  {
   "cell_type": "code",
   "execution_count": 106,
   "id": "873bbdfe",
   "metadata": {},
   "outputs": [
    {
     "data": {
      "text/html": [
       "<div>\n",
       "<style scoped>\n",
       "    .dataframe tbody tr th:only-of-type {\n",
       "        vertical-align: middle;\n",
       "    }\n",
       "\n",
       "    .dataframe tbody tr th {\n",
       "        vertical-align: top;\n",
       "    }\n",
       "\n",
       "    .dataframe thead th {\n",
       "        text-align: right;\n",
       "    }\n",
       "</style>\n",
       "<table border=\"1\" class=\"dataframe\">\n",
       "  <thead>\n",
       "    <tr style=\"text-align: right;\">\n",
       "      <th></th>\n",
       "      <th>col1</th>\n",
       "      <th>col2</th>\n",
       "      <th>col3</th>\n",
       "      <th>col4</th>\n",
       "    </tr>\n",
       "  </thead>\n",
       "  <tbody>\n",
       "    <tr>\n",
       "      <th>row1</th>\n",
       "      <td>0</td>\n",
       "      <td>5</td>\n",
       "      <td>9</td>\n",
       "      <td>13</td>\n",
       "    </tr>\n",
       "    <tr>\n",
       "      <th>row2</th>\n",
       "      <td>0</td>\n",
       "      <td>5</td>\n",
       "      <td>10</td>\n",
       "      <td>14</td>\n",
       "    </tr>\n",
       "    <tr>\n",
       "      <th>row3</th>\n",
       "      <td>3</td>\n",
       "      <td>7</td>\n",
       "      <td>11</td>\n",
       "      <td>15</td>\n",
       "    </tr>\n",
       "    <tr>\n",
       "      <th>row4</th>\n",
       "      <td>4</td>\n",
       "      <td>8</td>\n",
       "      <td>12</td>\n",
       "      <td>16</td>\n",
       "    </tr>\n",
       "  </tbody>\n",
       "</table>\n",
       "</div>"
      ],
      "text/plain": [
       "      col1  col2  col3  col4\n",
       "row1     0     5     9    13\n",
       "row2     0     5    10    14\n",
       "row3     3     7    11    15\n",
       "row4     4     8    12    16"
      ]
     },
     "execution_count": 106,
     "metadata": {},
     "output_type": "execute_result"
    }
   ],
   "source": [
    "#برای تغییر ستونهای خاص هم اینطوری کار خواهیم کرد\n",
    "my_df.loc[['row1','row2'],'col1'] = 0\n",
    "my_df"
   ]
  },
  {
   "cell_type": "code",
   "execution_count": 80,
   "id": "190c3718",
   "metadata": {},
   "outputs": [
    {
     "data": {
      "text/html": [
       "<div>\n",
       "<style scoped>\n",
       "    .dataframe tbody tr th:only-of-type {\n",
       "        vertical-align: middle;\n",
       "    }\n",
       "\n",
       "    .dataframe tbody tr th {\n",
       "        vertical-align: top;\n",
       "    }\n",
       "\n",
       "    .dataframe thead th {\n",
       "        text-align: right;\n",
       "    }\n",
       "</style>\n",
       "<table border=\"1\" class=\"dataframe\">\n",
       "  <thead>\n",
       "    <tr style=\"text-align: right;\">\n",
       "      <th></th>\n",
       "      <th>col1</th>\n",
       "      <th>col2</th>\n",
       "      <th>col3</th>\n",
       "      <th>col4</th>\n",
       "    </tr>\n",
       "  </thead>\n",
       "  <tbody>\n",
       "    <tr>\n",
       "      <th>0</th>\n",
       "      <td>1.</td>\n",
       "      <td>5.</td>\n",
       "      <td>9</td>\n",
       "      <td>13</td>\n",
       "    </tr>\n",
       "    <tr>\n",
       "      <th>1</th>\n",
       "      <td>2.</td>\n",
       "      <td>6.</td>\n",
       "      <td>10</td>\n",
       "      <td>14</td>\n",
       "    </tr>\n",
       "    <tr>\n",
       "      <th>2</th>\n",
       "      <td>3.</td>\n",
       "      <td>7.</td>\n",
       "      <td>11</td>\n",
       "      <td>15</td>\n",
       "    </tr>\n",
       "    <tr>\n",
       "      <th>3</th>\n",
       "      <td>4.</td>\n",
       "      <td>8.</td>\n",
       "      <td>12</td>\n",
       "      <td>16</td>\n",
       "    </tr>\n",
       "  </tbody>\n",
       "</table>\n",
       "</div>"
      ],
      "text/plain": [
       "  col1 col2  col3  col4\n",
       "0   1.   5.     9    13\n",
       "1   2.   6.    10    14\n",
       "2   3.   7.    11    15\n",
       "3   4.   8.    12    16"
      ]
     },
     "execution_count": 80,
     "metadata": {},
     "output_type": "execute_result"
    }
   ],
   "source": [
    "#برای حدف برچسب ها باید از کد زیر استفاده کنید\n",
    "my_df.reset_index(drop=True)"
   ]
  },
  {
   "cell_type": "code",
   "execution_count": 79,
   "id": "2292936c",
   "metadata": {},
   "outputs": [
    {
     "data": {
      "text/html": [
       "<div>\n",
       "<style scoped>\n",
       "    .dataframe tbody tr th:only-of-type {\n",
       "        vertical-align: middle;\n",
       "    }\n",
       "\n",
       "    .dataframe tbody tr th {\n",
       "        vertical-align: top;\n",
       "    }\n",
       "\n",
       "    .dataframe thead th {\n",
       "        text-align: right;\n",
       "    }\n",
       "</style>\n",
       "<table border=\"1\" class=\"dataframe\">\n",
       "  <thead>\n",
       "    <tr style=\"text-align: right;\">\n",
       "      <th></th>\n",
       "      <th>col1</th>\n",
       "      <th>col2</th>\n",
       "      <th>col3</th>\n",
       "    </tr>\n",
       "  </thead>\n",
       "  <tbody>\n",
       "    <tr>\n",
       "      <th>row1</th>\n",
       "      <td>1.</td>\n",
       "      <td>5.</td>\n",
       "      <td>9</td>\n",
       "    </tr>\n",
       "    <tr>\n",
       "      <th>row2</th>\n",
       "      <td>2.</td>\n",
       "      <td>6.</td>\n",
       "      <td>10</td>\n",
       "    </tr>\n",
       "    <tr>\n",
       "      <th>row3</th>\n",
       "      <td>3.</td>\n",
       "      <td>7.</td>\n",
       "      <td>11</td>\n",
       "    </tr>\n",
       "    <tr>\n",
       "      <th>row4</th>\n",
       "      <td>4.</td>\n",
       "      <td>8.</td>\n",
       "      <td>12</td>\n",
       "    </tr>\n",
       "  </tbody>\n",
       "</table>\n",
       "</div>"
      ],
      "text/plain": [
       "     col1 col2  col3\n",
       "row1   1.   5.     9\n",
       "row2   2.   6.    10\n",
       "row3   3.   7.    11\n",
       "row4   4.   8.    12"
      ]
     },
     "execution_count": 79,
     "metadata": {},
     "output_type": "execute_result"
    }
   ],
   "source": [
    "#برای حذف کامل نیز به صورت زیر عمل می کنیم\n",
    "my_df.drop('col4',axis=1)\n",
    "\n",
    "#منظوز از axis=1 یعنی روی ستونها دنبال دستور موردنطر بگرد"
   ]
  },
  {
   "cell_type": "code",
   "execution_count": 78,
   "id": "9dab8bce",
   "metadata": {},
   "outputs": [
    {
     "data": {
      "text/html": [
       "<div>\n",
       "<style scoped>\n",
       "    .dataframe tbody tr th:only-of-type {\n",
       "        vertical-align: middle;\n",
       "    }\n",
       "\n",
       "    .dataframe tbody tr th {\n",
       "        vertical-align: top;\n",
       "    }\n",
       "\n",
       "    .dataframe thead th {\n",
       "        text-align: right;\n",
       "    }\n",
       "</style>\n",
       "<table border=\"1\" class=\"dataframe\">\n",
       "  <thead>\n",
       "    <tr style=\"text-align: right;\">\n",
       "      <th></th>\n",
       "      <th>col1</th>\n",
       "      <th>col2</th>\n",
       "      <th>col3</th>\n",
       "      <th>Columns 4</th>\n",
       "    </tr>\n",
       "  </thead>\n",
       "  <tbody>\n",
       "    <tr>\n",
       "      <th>row1</th>\n",
       "      <td>1.</td>\n",
       "      <td>5.</td>\n",
       "      <td>9</td>\n",
       "      <td>13</td>\n",
       "    </tr>\n",
       "    <tr>\n",
       "      <th>row2</th>\n",
       "      <td>2.</td>\n",
       "      <td>6.</td>\n",
       "      <td>10</td>\n",
       "      <td>14</td>\n",
       "    </tr>\n",
       "    <tr>\n",
       "      <th>row3</th>\n",
       "      <td>3.</td>\n",
       "      <td>7.</td>\n",
       "      <td>11</td>\n",
       "      <td>15</td>\n",
       "    </tr>\n",
       "    <tr>\n",
       "      <th>row4</th>\n",
       "      <td>4.</td>\n",
       "      <td>8.</td>\n",
       "      <td>12</td>\n",
       "      <td>16</td>\n",
       "    </tr>\n",
       "  </tbody>\n",
       "</table>\n",
       "</div>"
      ],
      "text/plain": [
       "     col1 col2  col3  Columns 4\n",
       "row1   1.   5.     9         13\n",
       "row2   2.   6.    10         14\n",
       "row3   3.   7.    11         15\n",
       "row4   4.   8.    12         16"
      ]
     },
     "execution_count": 78,
     "metadata": {},
     "output_type": "execute_result"
    }
   ],
   "source": [
    "#تغییر نام سطر یا ستون\n",
    "my_df.rename(columns={'col4':'Columns 4'})"
   ]
  },
  {
   "cell_type": "code",
   "execution_count": 77,
   "id": "9ce0c7a6",
   "metadata": {},
   "outputs": [
    {
     "data": {
      "text/html": [
       "<div>\n",
       "<style scoped>\n",
       "    .dataframe tbody tr th:only-of-type {\n",
       "        vertical-align: middle;\n",
       "    }\n",
       "\n",
       "    .dataframe tbody tr th {\n",
       "        vertical-align: top;\n",
       "    }\n",
       "\n",
       "    .dataframe thead th {\n",
       "        text-align: right;\n",
       "    }\n",
       "</style>\n",
       "<table border=\"1\" class=\"dataframe\">\n",
       "  <thead>\n",
       "    <tr style=\"text-align: right;\">\n",
       "      <th></th>\n",
       "      <th>col1</th>\n",
       "      <th>col2</th>\n",
       "      <th>col3</th>\n",
       "      <th>col4</th>\n",
       "    </tr>\n",
       "  </thead>\n",
       "  <tbody>\n",
       "    <tr>\n",
       "      <th>row1</th>\n",
       "      <td>1.</td>\n",
       "      <td>5.</td>\n",
       "      <td>9</td>\n",
       "      <td>13</td>\n",
       "    </tr>\n",
       "    <tr>\n",
       "      <th>row2</th>\n",
       "      <td>2.</td>\n",
       "      <td>6.</td>\n",
       "      <td>10</td>\n",
       "      <td>14</td>\n",
       "    </tr>\n",
       "    <tr>\n",
       "      <th>row3</th>\n",
       "      <td>3.</td>\n",
       "      <td>7.</td>\n",
       "      <td>11</td>\n",
       "      <td>15</td>\n",
       "    </tr>\n",
       "    <tr>\n",
       "      <th>row4</th>\n",
       "      <td>4.</td>\n",
       "      <td>8.</td>\n",
       "      <td>12</td>\n",
       "      <td>16</td>\n",
       "    </tr>\n",
       "  </tbody>\n",
       "</table>\n",
       "</div>"
      ],
      "text/plain": [
       "     col1 col2  col3  col4\n",
       "row1   1.   5.     9    13\n",
       "row2   2.   6.    10    14\n",
       "row3   3.   7.    11    15\n",
       "row4   4.   8.    12    16"
      ]
     },
     "execution_count": 77,
     "metadata": {},
     "output_type": "execute_result"
    }
   ],
   "source": [
    "# بسیار پیش می‌آید که برای نرمال سازی، برخی داده هارا بخواهیم حذف کنیم. با کد زیر میتوانیم برای مثال تمامی 1 هارا به  0 تغییر دهیم\n",
    "\n",
    "my_df.replace({1:0})"
   ]
  },
  {
   "cell_type": "code",
   "execution_count": 74,
   "id": "b9bc1f55",
   "metadata": {},
   "outputs": [
    {
     "data": {
      "text/html": [
       "<div>\n",
       "<style scoped>\n",
       "    .dataframe tbody tr th:only-of-type {\n",
       "        vertical-align: middle;\n",
       "    }\n",
       "\n",
       "    .dataframe tbody tr th {\n",
       "        vertical-align: top;\n",
       "    }\n",
       "\n",
       "    .dataframe thead th {\n",
       "        text-align: right;\n",
       "    }\n",
       "</style>\n",
       "<table border=\"1\" class=\"dataframe\">\n",
       "  <thead>\n",
       "    <tr style=\"text-align: right;\">\n",
       "      <th></th>\n",
       "      <th>col1</th>\n",
       "      <th>col2</th>\n",
       "      <th>col3</th>\n",
       "      <th>col4</th>\n",
       "    </tr>\n",
       "  </thead>\n",
       "  <tbody>\n",
       "    <tr>\n",
       "      <th>row1</th>\n",
       "      <td>1.</td>\n",
       "      <td>5.00</td>\n",
       "      <td>9</td>\n",
       "      <td>13</td>\n",
       "    </tr>\n",
       "    <tr>\n",
       "      <th>row2</th>\n",
       "      <td>2.</td>\n",
       "      <td>6.00</td>\n",
       "      <td>10</td>\n",
       "      <td>14</td>\n",
       "    </tr>\n",
       "    <tr>\n",
       "      <th>row3</th>\n",
       "      <td>3.</td>\n",
       "      <td>7.00</td>\n",
       "      <td>11</td>\n",
       "      <td>15</td>\n",
       "    </tr>\n",
       "    <tr>\n",
       "      <th>row4</th>\n",
       "      <td>4.</td>\n",
       "      <td>8.00</td>\n",
       "      <td>12</td>\n",
       "      <td>16</td>\n",
       "    </tr>\n",
       "  </tbody>\n",
       "</table>\n",
       "</div>"
      ],
      "text/plain": [
       "     col1  col2  col3  col4\n",
       "row1   1.  5.00     9    13\n",
       "row2   2.  6.00    10    14\n",
       "row3   3.  7.00    11    15\n",
       "row4   4.  8.00    12    16"
      ]
     },
     "execution_count": 74,
     "metadata": {},
     "output_type": "execute_result"
    }
   ],
   "source": [
    "#برای استفاده از توابع در کتابخوانه ها می توانیم به شکل زیر استفاده کنیم\n",
    "my_df.col1 = ['{:.2}'.format(x) for x in my_df.iloc[:,0]]\n",
    "my_df"
   ]
  },
  {
   "cell_type": "code",
   "execution_count": 76,
   "id": "9f876c3f",
   "metadata": {},
   "outputs": [
    {
     "data": {
      "text/html": [
       "<div>\n",
       "<style scoped>\n",
       "    .dataframe tbody tr th:only-of-type {\n",
       "        vertical-align: middle;\n",
       "    }\n",
       "\n",
       "    .dataframe tbody tr th {\n",
       "        vertical-align: top;\n",
       "    }\n",
       "\n",
       "    .dataframe thead th {\n",
       "        text-align: right;\n",
       "    }\n",
       "</style>\n",
       "<table border=\"1\" class=\"dataframe\">\n",
       "  <thead>\n",
       "    <tr style=\"text-align: right;\">\n",
       "      <th></th>\n",
       "      <th>col1</th>\n",
       "      <th>col2</th>\n",
       "      <th>col3</th>\n",
       "      <th>col4</th>\n",
       "    </tr>\n",
       "  </thead>\n",
       "  <tbody>\n",
       "    <tr>\n",
       "      <th>row1</th>\n",
       "      <td>1.</td>\n",
       "      <td>5.</td>\n",
       "      <td>9</td>\n",
       "      <td>13</td>\n",
       "    </tr>\n",
       "    <tr>\n",
       "      <th>row2</th>\n",
       "      <td>2.</td>\n",
       "      <td>6.</td>\n",
       "      <td>10</td>\n",
       "      <td>14</td>\n",
       "    </tr>\n",
       "    <tr>\n",
       "      <th>row3</th>\n",
       "      <td>3.</td>\n",
       "      <td>7.</td>\n",
       "      <td>11</td>\n",
       "      <td>15</td>\n",
       "    </tr>\n",
       "    <tr>\n",
       "      <th>row4</th>\n",
       "      <td>4.</td>\n",
       "      <td>8.</td>\n",
       "      <td>12</td>\n",
       "      <td>16</td>\n",
       "    </tr>\n",
       "  </tbody>\n",
       "</table>\n",
       "</div>"
      ],
      "text/plain": [
       "     col1 col2  col3  col4\n",
       "row1   1.   5.     9    13\n",
       "row2   2.   6.    10    14\n",
       "row3   3.   7.    11    15\n",
       "row4   4.   8.    12    16"
      ]
     },
     "execution_count": 76,
     "metadata": {},
     "output_type": "execute_result"
    }
   ],
   "source": [
    "my_df['col2'] = my_df['col2'].apply(lambda x:'{:.2}'.format(x))\n",
    "my_df"
   ]
  },
  {
   "cell_type": "code",
   "execution_count": 71,
   "id": "a3bc1abb",
   "metadata": {},
   "outputs": [
    {
     "data": {
      "text/html": [
       "<div>\n",
       "<style scoped>\n",
       "    .dataframe tbody tr th:only-of-type {\n",
       "        vertical-align: middle;\n",
       "    }\n",
       "\n",
       "    .dataframe tbody tr th {\n",
       "        vertical-align: top;\n",
       "    }\n",
       "\n",
       "    .dataframe thead th {\n",
       "        text-align: right;\n",
       "    }\n",
       "</style>\n",
       "<table border=\"1\" class=\"dataframe\">\n",
       "  <thead>\n",
       "    <tr style=\"text-align: right;\">\n",
       "      <th></th>\n",
       "      <th>col4</th>\n",
       "      <th>col3</th>\n",
       "      <th>col2</th>\n",
       "      <th>col1</th>\n",
       "    </tr>\n",
       "  </thead>\n",
       "  <tbody>\n",
       "    <tr>\n",
       "      <th>row1</th>\n",
       "      <td>13</td>\n",
       "      <td>9</td>\n",
       "      <td>5.00</td>\n",
       "      <td>1.</td>\n",
       "    </tr>\n",
       "    <tr>\n",
       "      <th>row2</th>\n",
       "      <td>14</td>\n",
       "      <td>10</td>\n",
       "      <td>6.00</td>\n",
       "      <td>2.</td>\n",
       "    </tr>\n",
       "    <tr>\n",
       "      <th>row3</th>\n",
       "      <td>15</td>\n",
       "      <td>11</td>\n",
       "      <td>7.00</td>\n",
       "      <td>3.</td>\n",
       "    </tr>\n",
       "    <tr>\n",
       "      <th>row4</th>\n",
       "      <td>16</td>\n",
       "      <td>12</td>\n",
       "      <td>8.00</td>\n",
       "      <td>4.</td>\n",
       "    </tr>\n",
       "  </tbody>\n",
       "</table>\n",
       "</div>"
      ],
      "text/plain": [
       "      col4  col3  col2 col1\n",
       "row1    13     9  5.00   1.\n",
       "row2    14    10  6.00   2.\n",
       "row3    15    11  7.00   3.\n",
       "row4    16    12  8.00   4."
      ]
     },
     "execution_count": 71,
     "metadata": {},
     "output_type": "execute_result"
    }
   ],
   "source": [
    "#sorting\n",
    "my_df.sort_index(axis=1, ascending=False)"
   ]
  },
  {
   "cell_type": "code",
   "execution_count": 72,
   "id": "e68c6720",
   "metadata": {},
   "outputs": [
    {
     "data": {
      "text/html": [
       "<div>\n",
       "<style scoped>\n",
       "    .dataframe tbody tr th:only-of-type {\n",
       "        vertical-align: middle;\n",
       "    }\n",
       "\n",
       "    .dataframe tbody tr th {\n",
       "        vertical-align: top;\n",
       "    }\n",
       "\n",
       "    .dataframe thead th {\n",
       "        text-align: right;\n",
       "    }\n",
       "</style>\n",
       "<table border=\"1\" class=\"dataframe\">\n",
       "  <thead>\n",
       "    <tr style=\"text-align: right;\">\n",
       "      <th></th>\n",
       "      <th>col1</th>\n",
       "      <th>col2</th>\n",
       "      <th>col3</th>\n",
       "      <th>col4</th>\n",
       "    </tr>\n",
       "  </thead>\n",
       "  <tbody>\n",
       "    <tr>\n",
       "      <th>row4</th>\n",
       "      <td>4.</td>\n",
       "      <td>8.00</td>\n",
       "      <td>12</td>\n",
       "      <td>16</td>\n",
       "    </tr>\n",
       "    <tr>\n",
       "      <th>row3</th>\n",
       "      <td>3.</td>\n",
       "      <td>7.00</td>\n",
       "      <td>11</td>\n",
       "      <td>15</td>\n",
       "    </tr>\n",
       "    <tr>\n",
       "      <th>row2</th>\n",
       "      <td>2.</td>\n",
       "      <td>6.00</td>\n",
       "      <td>10</td>\n",
       "      <td>14</td>\n",
       "    </tr>\n",
       "    <tr>\n",
       "      <th>row1</th>\n",
       "      <td>1.</td>\n",
       "      <td>5.00</td>\n",
       "      <td>9</td>\n",
       "      <td>13</td>\n",
       "    </tr>\n",
       "  </tbody>\n",
       "</table>\n",
       "</div>"
      ],
      "text/plain": [
       "     col1  col2  col3  col4\n",
       "row4   4.  8.00    12    16\n",
       "row3   3.  7.00    11    15\n",
       "row2   2.  6.00    10    14\n",
       "row1   1.  5.00     9    13"
      ]
     },
     "execution_count": 72,
     "metadata": {},
     "output_type": "execute_result"
    }
   ],
   "source": [
    "my_df.sort_index(axis=0, ascending=False)"
   ]
  },
  {
   "cell_type": "code",
   "execution_count": 70,
   "id": "a596dc16",
   "metadata": {},
   "outputs": [
    {
     "data": {
      "text/html": [
       "<div>\n",
       "<style scoped>\n",
       "    .dataframe tbody tr th:only-of-type {\n",
       "        vertical-align: middle;\n",
       "    }\n",
       "\n",
       "    .dataframe tbody tr th {\n",
       "        vertical-align: top;\n",
       "    }\n",
       "\n",
       "    .dataframe thead th {\n",
       "        text-align: right;\n",
       "    }\n",
       "</style>\n",
       "<table border=\"1\" class=\"dataframe\">\n",
       "  <thead>\n",
       "    <tr style=\"text-align: right;\">\n",
       "      <th></th>\n",
       "      <th>col1</th>\n",
       "      <th>col2</th>\n",
       "      <th>col3</th>\n",
       "      <th>col4</th>\n",
       "    </tr>\n",
       "  </thead>\n",
       "  <tbody>\n",
       "    <tr>\n",
       "      <th>row1</th>\n",
       "      <td>1.</td>\n",
       "      <td>5.00</td>\n",
       "      <td>9</td>\n",
       "      <td>13</td>\n",
       "    </tr>\n",
       "    <tr>\n",
       "      <th>row2</th>\n",
       "      <td>2.</td>\n",
       "      <td>6.00</td>\n",
       "      <td>10</td>\n",
       "      <td>14</td>\n",
       "    </tr>\n",
       "    <tr>\n",
       "      <th>row3</th>\n",
       "      <td>3.</td>\n",
       "      <td>7.00</td>\n",
       "      <td>11</td>\n",
       "      <td>15</td>\n",
       "    </tr>\n",
       "    <tr>\n",
       "      <th>row4</th>\n",
       "      <td>4.</td>\n",
       "      <td>8.00</td>\n",
       "      <td>12</td>\n",
       "      <td>16</td>\n",
       "    </tr>\n",
       "  </tbody>\n",
       "</table>\n",
       "</div>"
      ],
      "text/plain": [
       "     col1  col2  col3  col4\n",
       "row1   1.  5.00     9    13\n",
       "row2   2.  6.00    10    14\n",
       "row3   3.  7.00    11    15\n",
       "row4   4.  8.00    12    16"
      ]
     },
     "execution_count": 70,
     "metadata": {},
     "output_type": "execute_result"
    }
   ],
   "source": [
    "my_df.sort_values(by='col1', ascending=True)"
   ]
  },
  {
   "cell_type": "code",
   "execution_count": 69,
   "id": "d5edbb8c",
   "metadata": {},
   "outputs": [
    {
     "data": {
      "text/html": [
       "<div>\n",
       "<style scoped>\n",
       "    .dataframe tbody tr th:only-of-type {\n",
       "        vertical-align: middle;\n",
       "    }\n",
       "\n",
       "    .dataframe tbody tr th {\n",
       "        vertical-align: top;\n",
       "    }\n",
       "\n",
       "    .dataframe thead th {\n",
       "        text-align: right;\n",
       "    }\n",
       "</style>\n",
       "<table border=\"1\" class=\"dataframe\">\n",
       "  <thead>\n",
       "    <tr style=\"text-align: right;\">\n",
       "      <th></th>\n",
       "      <th>col1</th>\n",
       "      <th>col2</th>\n",
       "      <th>col3</th>\n",
       "      <th>col4</th>\n",
       "    </tr>\n",
       "  </thead>\n",
       "  <tbody>\n",
       "    <tr>\n",
       "      <th>row1</th>\n",
       "      <td>1.</td>\n",
       "      <td>5.00</td>\n",
       "      <td>9</td>\n",
       "      <td>13</td>\n",
       "    </tr>\n",
       "    <tr>\n",
       "      <th>row2</th>\n",
       "      <td>2.</td>\n",
       "      <td>6.00</td>\n",
       "      <td>10</td>\n",
       "      <td>14</td>\n",
       "    </tr>\n",
       "  </tbody>\n",
       "</table>\n",
       "</div>"
      ],
      "text/plain": [
       "     col1  col2  col3  col4\n",
       "row1   1.  5.00     9    13\n",
       "row2   2.  6.00    10    14"
      ]
     },
     "execution_count": 69,
     "metadata": {},
     "output_type": "execute_result"
    }
   ],
   "source": [
    "#چند متد دیگر هم داریم که بسیار مفید هستند\n",
    "#برای مثال شما میخواهید فقط 5 سطر اول را به شما نمایش دهد\n",
    "my_df.head(2)\n",
    "\n",
    "#اگر چیزی نزاریذ به صورت پیش فرض 5 سطر را برخواهد گرداند"
   ]
  },
  {
   "cell_type": "code",
   "execution_count": 68,
   "id": "63e763e4",
   "metadata": {},
   "outputs": [
    {
     "data": {
      "text/html": [
       "<div>\n",
       "<style scoped>\n",
       "    .dataframe tbody tr th:only-of-type {\n",
       "        vertical-align: middle;\n",
       "    }\n",
       "\n",
       "    .dataframe tbody tr th {\n",
       "        vertical-align: top;\n",
       "    }\n",
       "\n",
       "    .dataframe thead th {\n",
       "        text-align: right;\n",
       "    }\n",
       "</style>\n",
       "<table border=\"1\" class=\"dataframe\">\n",
       "  <thead>\n",
       "    <tr style=\"text-align: right;\">\n",
       "      <th></th>\n",
       "      <th>col1</th>\n",
       "      <th>col2</th>\n",
       "      <th>col3</th>\n",
       "      <th>col4</th>\n",
       "    </tr>\n",
       "  </thead>\n",
       "  <tbody>\n",
       "    <tr>\n",
       "      <th>row3</th>\n",
       "      <td>3.</td>\n",
       "      <td>7.00</td>\n",
       "      <td>11</td>\n",
       "      <td>15</td>\n",
       "    </tr>\n",
       "    <tr>\n",
       "      <th>row4</th>\n",
       "      <td>4.</td>\n",
       "      <td>8.00</td>\n",
       "      <td>12</td>\n",
       "      <td>16</td>\n",
       "    </tr>\n",
       "  </tbody>\n",
       "</table>\n",
       "</div>"
      ],
      "text/plain": [
       "     col1  col2  col3  col4\n",
       "row3   3.  7.00    11    15\n",
       "row4   4.  8.00    12    16"
      ]
     },
     "execution_count": 68,
     "metadata": {},
     "output_type": "execute_result"
    }
   ],
   "source": [
    "# برای دریافت خروجی از آخر لیست هم به صورت زیری عمل می کنیم\n",
    "my_df.tail(2)"
   ]
  },
  {
   "cell_type": "code",
   "execution_count": 67,
   "id": "55f629a8",
   "metadata": {},
   "outputs": [
    {
     "data": {
      "text/html": [
       "<div>\n",
       "<style scoped>\n",
       "    .dataframe tbody tr th:only-of-type {\n",
       "        vertical-align: middle;\n",
       "    }\n",
       "\n",
       "    .dataframe tbody tr th {\n",
       "        vertical-align: top;\n",
       "    }\n",
       "\n",
       "    .dataframe thead th {\n",
       "        text-align: right;\n",
       "    }\n",
       "</style>\n",
       "<table border=\"1\" class=\"dataframe\">\n",
       "  <thead>\n",
       "    <tr style=\"text-align: right;\">\n",
       "      <th></th>\n",
       "      <th>Unnamed: 0</th>\n",
       "      <th>category</th>\n",
       "      <th>title</th>\n",
       "      <th>desc</th>\n",
       "    </tr>\n",
       "  </thead>\n",
       "  <tbody>\n",
       "    <tr>\n",
       "      <th>0</th>\n",
       "      <td>1</td>\n",
       "      <td>Arts</td>\n",
       "      <td>About.com: Animation Guide</td>\n",
       "      <td>Keep up with developments in online animation ...</td>\n",
       "    </tr>\n",
       "    <tr>\n",
       "      <th>1</th>\n",
       "      <td>2</td>\n",
       "      <td>Arts</td>\n",
       "      <td>Toonhound</td>\n",
       "      <td>British cartoon, animation and comic strip cre...</td>\n",
       "    </tr>\n",
       "    <tr>\n",
       "      <th>2</th>\n",
       "      <td>3</td>\n",
       "      <td>Arts</td>\n",
       "      <td>Enculturation: From Mouse to Mouse: Overcoming...</td>\n",
       "      <td>Essay by Patricia Pisters on the animated imag...</td>\n",
       "    </tr>\n",
       "    <tr>\n",
       "      <th>3</th>\n",
       "      <td>4</td>\n",
       "      <td>Arts</td>\n",
       "      <td>Digital Media FX: The History of Animation</td>\n",
       "      <td>Michael Crandol takes an exhaustive look at th...</td>\n",
       "    </tr>\n",
       "    <tr>\n",
       "      <th>4</th>\n",
       "      <td>5</td>\n",
       "      <td>Arts</td>\n",
       "      <td>Spark Online: Only Genius Is Genius</td>\n",
       "      <td>Chris Romano feels that the proliferation of F...</td>\n",
       "    </tr>\n",
       "    <tr>\n",
       "      <th>...</th>\n",
       "      <td>...</td>\n",
       "      <td>...</td>\n",
       "      <td>...</td>\n",
       "      <td>...</td>\n",
       "    </tr>\n",
       "    <tr>\n",
       "      <th>1195846</th>\n",
       "      <td>2196856</td>\n",
       "      <td>Sports</td>\n",
       "      <td>MaxPreps.com</td>\n",
       "      <td>High school sports and athletes as well as spo...</td>\n",
       "    </tr>\n",
       "    <tr>\n",
       "      <th>1195847</th>\n",
       "      <td>2196857</td>\n",
       "      <td>Sports</td>\n",
       "      <td>My Score</td>\n",
       "      <td>High school sports scores, standings, and sche...</td>\n",
       "    </tr>\n",
       "    <tr>\n",
       "      <th>1195848</th>\n",
       "      <td>2196858</td>\n",
       "      <td>Sports</td>\n",
       "      <td>Sports Illustrated: High School Sports</td>\n",
       "      <td>News, analysis, commentary, feature articles, ...</td>\n",
       "    </tr>\n",
       "    <tr>\n",
       "      <th>1195849</th>\n",
       "      <td>2196859</td>\n",
       "      <td>Sports</td>\n",
       "      <td>Sports Illustrated: High School Sports</td>\n",
       "      <td>Headline news and feature stories.</td>\n",
       "    </tr>\n",
       "    <tr>\n",
       "      <th>1195850</th>\n",
       "      <td>2196860</td>\n",
       "      <td>Sports</td>\n",
       "      <td>USA Today: Preps</td>\n",
       "      <td>Features high school news and the Super 25 Ind...</td>\n",
       "    </tr>\n",
       "  </tbody>\n",
       "</table>\n",
       "<p>1195851 rows × 4 columns</p>\n",
       "</div>"
      ],
      "text/plain": [
       "         Unnamed: 0 category  \\\n",
       "0                 1     Arts   \n",
       "1                 2     Arts   \n",
       "2                 3     Arts   \n",
       "3                 4     Arts   \n",
       "4                 5     Arts   \n",
       "...             ...      ...   \n",
       "1195846     2196856   Sports   \n",
       "1195847     2196857   Sports   \n",
       "1195848     2196858   Sports   \n",
       "1195849     2196859   Sports   \n",
       "1195850     2196860   Sports   \n",
       "\n",
       "                                                     title  \\\n",
       "0                               About.com: Animation Guide   \n",
       "1                                                Toonhound   \n",
       "2        Enculturation: From Mouse to Mouse: Overcoming...   \n",
       "3               Digital Media FX: The History of Animation   \n",
       "4                      Spark Online: Only Genius Is Genius   \n",
       "...                                                    ...   \n",
       "1195846                                       MaxPreps.com   \n",
       "1195847                                           My Score   \n",
       "1195848             Sports Illustrated: High School Sports   \n",
       "1195849             Sports Illustrated: High School Sports   \n",
       "1195850                                   USA Today: Preps   \n",
       "\n",
       "                                                      desc  \n",
       "0        Keep up with developments in online animation ...  \n",
       "1        British cartoon, animation and comic strip cre...  \n",
       "2        Essay by Patricia Pisters on the animated imag...  \n",
       "3        Michael Crandol takes an exhaustive look at th...  \n",
       "4        Chris Romano feels that the proliferation of F...  \n",
       "...                                                    ...  \n",
       "1195846  High school sports and athletes as well as spo...  \n",
       "1195847  High school sports scores, standings, and sche...  \n",
       "1195848  News, analysis, commentary, feature articles, ...  \n",
       "1195849                 Headline news and feature stories.  \n",
       "1195850  Features high school news and the Super 25 Ind...  \n",
       "\n",
       "[1195851 rows x 4 columns]"
      ]
     },
     "execution_count": 67,
     "metadata": {},
     "output_type": "execute_result"
    }
   ],
   "source": [
    "#insert data\n",
    "dmoz = pd.read_csv('dmoz.csv')\n",
    "dmoz"
   ]
  },
  {
   "cell_type": "code",
   "execution_count": 66,
   "id": "222903e8",
   "metadata": {},
   "outputs": [
    {
     "data": {
      "text/html": [
       "<div>\n",
       "<style scoped>\n",
       "    .dataframe tbody tr th:only-of-type {\n",
       "        vertical-align: middle;\n",
       "    }\n",
       "\n",
       "    .dataframe tbody tr th {\n",
       "        vertical-align: top;\n",
       "    }\n",
       "\n",
       "    .dataframe thead th {\n",
       "        text-align: right;\n",
       "    }\n",
       "</style>\n",
       "<table border=\"1\" class=\"dataframe\">\n",
       "  <thead>\n",
       "    <tr style=\"text-align: right;\">\n",
       "      <th></th>\n",
       "      <th>id</th>\n",
       "      <th>name</th>\n",
       "      <th>child_nodes</th>\n",
       "    </tr>\n",
       "  </thead>\n",
       "  <tbody>\n",
       "    <tr>\n",
       "      <th>0</th>\n",
       "      <td>2619526011</td>\n",
       "      <td>Appliances</td>\n",
       "      <td>[{'id': '17921061011', 'name': 'Refrigerators,...</td>\n",
       "    </tr>\n",
       "    <tr>\n",
       "      <th>1</th>\n",
       "      <td>2617942011</td>\n",
       "      <td>Arts, Crafts &amp; Sewing</td>\n",
       "      <td>[{'id': '2747968011', 'name': 'Painting, Drawi...</td>\n",
       "    </tr>\n",
       "    <tr>\n",
       "      <th>2</th>\n",
       "      <td>15690151</td>\n",
       "      <td>Automotive</td>\n",
       "      <td>[{'id': '15718271', 'name': 'Car Care', 'child...</td>\n",
       "    </tr>\n",
       "    <tr>\n",
       "      <th>3</th>\n",
       "      <td>165797011</td>\n",
       "      <td>Baby</td>\n",
       "      <td>[{'id': '239225011', 'name': 'Activity &amp; Enter...</td>\n",
       "    </tr>\n",
       "    <tr>\n",
       "      <th>4</th>\n",
       "      <td>11055981</td>\n",
       "      <td>Beauty</td>\n",
       "      <td>[{'id': '11058281', 'name': 'Makeup', 'child_n...</td>\n",
       "    </tr>\n",
       "    <tr>\n",
       "      <th>5</th>\n",
       "      <td>1000</td>\n",
       "      <td>Books</td>\n",
       "      <td>[{'id': '1', 'name': 'Arts &amp; Photography', 'ch...</td>\n",
       "    </tr>\n",
       "    <tr>\n",
       "      <th>6</th>\n",
       "      <td>4991426011</td>\n",
       "      <td>Collectibles &amp; Fine Arts</td>\n",
       "      <td>[{'id': '7301170011', 'name': 'Advertising', '...</td>\n",
       "    </tr>\n",
       "    <tr>\n",
       "      <th>7</th>\n",
       "      <td>493964</td>\n",
       "      <td>Electronics</td>\n",
       "      <td>[{'id': '281407', 'name': 'Accessories &amp; Suppl...</td>\n",
       "    </tr>\n",
       "    <tr>\n",
       "      <th>8</th>\n",
       "      <td>7141124011</td>\n",
       "      <td>Clothing, Shoes &amp; Jewelry</td>\n",
       "      <td>[{'id': '7147440011', 'name': 'Women', 'child_...</td>\n",
       "    </tr>\n",
       "    <tr>\n",
       "      <th>9</th>\n",
       "      <td>7147444011</td>\n",
       "      <td>Clothing, Shoes &amp; Jewelry - Baby</td>\n",
       "      <td>[{'id': '7628012011', 'name': 'Baby Girls', 'c...</td>\n",
       "    </tr>\n",
       "  </tbody>\n",
       "</table>\n",
       "</div>"
      ],
      "text/plain": [
       "           id                              name  \\\n",
       "0  2619526011                        Appliances   \n",
       "1  2617942011             Arts, Crafts & Sewing   \n",
       "2    15690151                        Automotive   \n",
       "3   165797011                              Baby   \n",
       "4    11055981                            Beauty   \n",
       "5        1000                             Books   \n",
       "6  4991426011          Collectibles & Fine Arts   \n",
       "7      493964                       Electronics   \n",
       "8  7141124011         Clothing, Shoes & Jewelry   \n",
       "9  7147444011  Clothing, Shoes & Jewelry - Baby   \n",
       "\n",
       "                                         child_nodes  \n",
       "0  [{'id': '17921061011', 'name': 'Refrigerators,...  \n",
       "1  [{'id': '2747968011', 'name': 'Painting, Drawi...  \n",
       "2  [{'id': '15718271', 'name': 'Car Care', 'child...  \n",
       "3  [{'id': '239225011', 'name': 'Activity & Enter...  \n",
       "4  [{'id': '11058281', 'name': 'Makeup', 'child_n...  \n",
       "5  [{'id': '1', 'name': 'Arts & Photography', 'ch...  \n",
       "6  [{'id': '7301170011', 'name': 'Advertising', '...  \n",
       "7  [{'id': '281407', 'name': 'Accessories & Suppl...  \n",
       "8  [{'id': '7147440011', 'name': 'Women', 'child_...  \n",
       "9  [{'id': '7628012011', 'name': 'Baby Girls', 'c...  "
      ]
     },
     "execution_count": 66,
     "metadata": {},
     "output_type": "execute_result"
    }
   ],
   "source": [
    "amazon_nodes = pd.read_json('nodes.json')\n",
    "amazon_nodes.head(10)"
   ]
  },
  {
   "cell_type": "code",
   "execution_count": null,
   "id": "2160ba2b",
   "metadata": {},
   "outputs": [],
   "source": [
    "#pandas.panel\n",
    "#این دیتا استراکتچرها بسیار قدرتمند و 3بعدی هستند ولی به دلیل استفاده کم کاربران از آنها تصمیم به حذف کامل آنها از این کتابخوانه شد\n",
    "# و در کتابخوانه های کنونی این قابلیت وجود ندارد!\n"
   ]
  }
 ],
 "metadata": {
  "kernelspec": {
   "display_name": "Python 3 (ipykernel)",
   "language": "python",
   "name": "python3"
  },
  "language_info": {
   "codemirror_mode": {
    "name": "ipython",
    "version": 3
   },
   "file_extension": ".py",
   "mimetype": "text/x-python",
   "name": "python",
   "nbconvert_exporter": "python",
   "pygments_lexer": "ipython3",
   "version": "3.9.13"
  }
 },
 "nbformat": 4,
 "nbformat_minor": 5
}
