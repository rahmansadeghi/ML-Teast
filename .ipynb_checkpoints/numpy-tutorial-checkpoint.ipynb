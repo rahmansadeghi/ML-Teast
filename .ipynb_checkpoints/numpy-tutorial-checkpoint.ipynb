{
 "cells": [
  {
   "cell_type": "code",
   "execution_count": 3,
   "id": "c59a8725",
   "metadata": {},
   "outputs": [],
   "source": [
    "import numpy as np"
   ]
  },
  {
   "cell_type": "code",
   "execution_count": 2,
   "id": "8e3a76e2",
   "metadata": {},
   "outputs": [
    {
     "data": {
      "text/plain": [
       "'1.21.5'"
      ]
     },
     "execution_count": 2,
     "metadata": {},
     "output_type": "execute_result"
    }
   ],
   "source": [
    "np.__version__"
   ]
  },
  {
   "cell_type": "code",
   "execution_count": 5,
   "id": "bca87db5",
   "metadata": {},
   "outputs": [
    {
     "data": {
      "text/plain": [
       "array([[1, 2],\n",
       "       [3, 4]])"
      ]
     },
     "execution_count": 5,
     "metadata": {},
     "output_type": "execute_result"
    }
   ],
   "source": [
    "a=np.array([[1,2],[3,4]])\n",
    "a"
   ]
  },
  {
   "cell_type": "code",
   "execution_count": 6,
   "id": "b5bbe49b",
   "metadata": {},
   "outputs": [
    {
     "data": {
      "text/plain": [
       "matrix([[1, 2],\n",
       "        [3, 4]])"
      ]
     },
     "execution_count": 6,
     "metadata": {},
     "output_type": "execute_result"
    }
   ],
   "source": [
    "b=np.matrix([[1,2],[3,4]])\n",
    "b"
   ]
  },
  {
   "cell_type": "code",
   "execution_count": 7,
   "id": "2ba50357",
   "metadata": {},
   "outputs": [
    {
     "data": {
      "text/plain": [
       "array([[ 7, 10],\n",
       "       [15, 22]])"
      ]
     },
     "execution_count": 7,
     "metadata": {},
     "output_type": "execute_result"
    }
   ],
   "source": [
    "#ضرب ماتریسی\n",
    "#@ OR np.dot()\n",
    "a@a"
   ]
  },
  {
   "cell_type": "code",
   "execution_count": 8,
   "id": "137ab3b2",
   "metadata": {},
   "outputs": [
    {
     "data": {
      "text/plain": [
       "array([[ 7, 10],\n",
       "       [15, 22]])"
      ]
     },
     "execution_count": 8,
     "metadata": {},
     "output_type": "execute_result"
    }
   ],
   "source": [
    "np.dot(a,a)"
   ]
  },
  {
   "cell_type": "code",
   "execution_count": 9,
   "id": "9210c9ed",
   "metadata": {},
   "outputs": [
    {
     "data": {
      "text/plain": [
       "array([[ 1,  4],\n",
       "       [ 9, 16]])"
      ]
     },
     "execution_count": 9,
     "metadata": {},
     "output_type": "execute_result"
    }
   ],
   "source": [
    "#ضرب عضو به عضو\n",
    "#np.multiply()\n",
    "np.multiply(a,a)"
   ]
  },
  {
   "cell_type": "code",
   "execution_count": 10,
   "id": "5ac60d13",
   "metadata": {},
   "outputs": [
    {
     "data": {
      "text/plain": [
       "array([[ 1,  4],\n",
       "       [ 9, 16]])"
      ]
     },
     "execution_count": 10,
     "metadata": {},
     "output_type": "execute_result"
    }
   ],
   "source": [
    "#اگر از علامت * برای ضرب در آرایه استفاده کنیم، ضرب عضو به عضو بوده و اگر در ماتریس استفاده کنیم، ضرب ماترسی خواهد بود\n",
    "a*a"
   ]
  },
  {
   "cell_type": "code",
   "execution_count": 11,
   "id": "1370ed9b",
   "metadata": {},
   "outputs": [
    {
     "data": {
      "text/plain": [
       "matrix([[ 7, 10],\n",
       "        [15, 22]])"
      ]
     },
     "execution_count": 11,
     "metadata": {},
     "output_type": "execute_result"
    }
   ],
   "source": [
    "b*b"
   ]
  },
  {
   "cell_type": "code",
   "execution_count": 13,
   "id": "c08665b6",
   "metadata": {},
   "outputs": [
    {
     "data": {
      "text/plain": [
       "24"
      ]
     },
     "execution_count": 13,
     "metadata": {},
     "output_type": "execute_result"
    }
   ],
   "source": [
    "#برای ضرب تمامی اعضای یک آرایه به صورت زیر عمل می کنیم\n",
    "np.prod(a)"
   ]
  },
  {
   "cell_type": "code",
   "execution_count": 16,
   "id": "29b72ddc",
   "metadata": {},
   "outputs": [
    {
     "data": {
      "text/plain": [
       "array([ 6,  7,  8,  9, 10])"
      ]
     },
     "execution_count": 16,
     "metadata": {},
     "output_type": "execute_result"
    }
   ],
   "source": [
    "#Broadcastion\n",
    "#اگر بخواهیم یک آرایه را در یک عدد ضرب کنیم، با استفاده از این قابلیت می توانیم یک ماتریس مربع ایجاد کرده تا  عملیات بدون مشکل اجرا شود\n",
    "\n",
    "my_array=np.array([1,2,3,4,5])\n",
    "my_array+5\n",
    "\n",
    "#در کد بالا یک آرایه 5 عضوی که همه آنها عدد 5 دارد ایجاد شده و با آرایه ما جمع شد"
   ]
  },
  {
   "cell_type": "code",
   "execution_count": 17,
   "id": "cca28a34",
   "metadata": {},
   "outputs": [
    {
     "data": {
      "text/plain": [
       "array([[3, 4],\n",
       "       [5, 6]])"
      ]
     },
     "execution_count": 17,
     "metadata": {},
     "output_type": "execute_result"
    }
   ],
   "source": [
    "a+2"
   ]
  },
  {
   "cell_type": "code",
   "execution_count": 28,
   "id": "dc7ecfe4",
   "metadata": {},
   "outputs": [
    {
     "data": {
      "text/plain": [
       "array([[1.],\n",
       "       [1.],\n",
       "       [1.]])"
      ]
     },
     "execution_count": 28,
     "metadata": {},
     "output_type": "execute_result"
    }
   ],
   "source": [
    "#برای ایجاد آرایه که تمام درایه های آن 1 باشد از روش زیر استفاده می کنیم\n",
    "e= np.ones((3,1))\n",
    "#این تاپل یک آرایه 3 در 3 برای ما ایجاد می کند\n",
    "e"
   ]
  },
  {
   "cell_type": "code",
   "execution_count": 29,
   "id": "bdbc646e",
   "metadata": {},
   "outputs": [
    {
     "data": {
      "text/plain": [
       "array([[3., 4., 5.],\n",
       "       [3., 4., 5.],\n",
       "       [3., 4., 5.]])"
      ]
     },
     "execution_count": 29,
     "metadata": {},
     "output_type": "execute_result"
    }
   ],
   "source": [
    "#توجه داشته باشید که حالت برادکستینگ برای ماتریس چند بعدی هم قابل اجراست فقط باید تعداد سطر ها یا ستونها باهم برابر باشند\n",
    "d = np.array([2,3,4])\n",
    "e+d"
   ]
  },
  {
   "cell_type": "code",
   "execution_count": 30,
   "id": "ec07e032",
   "metadata": {},
   "outputs": [
    {
     "data": {
      "text/plain": [
       "17"
      ]
     },
     "execution_count": 30,
     "metadata": {},
     "output_type": "execute_result"
    }
   ],
   "source": [
    "#برای جمع تمامی درایه های آرایه می توان به صورت زیر عمل کرد\n",
    "a=np.array([[2,4],[5,6]])\n",
    "np.sum(a)"
   ]
  },
  {
   "cell_type": "code",
   "execution_count": 32,
   "id": "644239e6",
   "metadata": {},
   "outputs": [
    {
     "data": {
      "text/plain": [
       "array([[1, 2],\n",
       "       [4, 6]], dtype=int32)"
      ]
     },
     "execution_count": 32,
     "metadata": {},
     "output_type": "execute_result"
    }
   ],
   "source": [
    "#اگر بخواهیم فقط ستونها یا فقط سطرها باهم جمع شوند و کنار یکدیگر نوشته شوند، به این کار عمل جمع تجمعی گفته می شود\n",
    "#اگر عبارت axis برابر با 0 باشد ستونی و اگر 1 باشد سطری عمل جمع صورت خواهد گرفت\n",
    "a = np.array([[1,2],[3,4]])\n",
    "np.cumsum(a,axis=0)"
   ]
  },
  {
   "cell_type": "code",
   "execution_count": 33,
   "id": "0891e19c",
   "metadata": {},
   "outputs": [
    {
     "data": {
      "text/plain": [
       "array([[1, 3],\n",
       "       [3, 7]], dtype=int32)"
      ]
     },
     "execution_count": 33,
     "metadata": {},
     "output_type": "execute_result"
    }
   ],
   "source": [
    "np.cumsum(a,axis=1)"
   ]
  },
  {
   "cell_type": "code",
   "execution_count": 34,
   "id": "9ac761ac",
   "metadata": {},
   "outputs": [
    {
     "data": {
      "text/plain": [
       "array([[0, 0],\n",
       "       [0, 0]])"
      ]
     },
     "execution_count": 34,
     "metadata": {},
     "output_type": "execute_result"
    }
   ],
   "source": [
    "#برای تفریق هم به صورت زیر عمل می کنیم\n",
    "np.subtract(a,a)"
   ]
  },
  {
   "cell_type": "code",
   "execution_count": 35,
   "id": "0153eed1",
   "metadata": {},
   "outputs": [
    {
     "data": {
      "text/plain": [
       "array([1.66666667, 2.        , 2.33333333])"
      ]
     },
     "execution_count": 35,
     "metadata": {},
     "output_type": "execute_result"
    }
   ],
   "source": [
    "#برای تقسیم کردن نیز به صورت زیر عمل می کنیم\n",
    "#تقسیم بر 3\n",
    "np.divide([5,6,7],3)"
   ]
  },
  {
   "cell_type": "code",
   "execution_count": 39,
   "id": "32cccda5",
   "metadata": {},
   "outputs": [
    {
     "data": {
      "text/plain": [
       "array([1, 2, 2], dtype=int32)"
      ]
     },
     "execution_count": 39,
     "metadata": {},
     "output_type": "execute_result"
    }
   ],
   "source": [
    "#اگر بخواهیم همزمان با تقسیم کردم، به پایین هم گرد کنیم به صورت زیر عمل می کنیم\n",
    "np.floor_divide([5,6,7],3)"
   ]
  },
  {
   "cell_type": "code",
   "execution_count": 41,
   "id": "68808867",
   "metadata": {},
   "outputs": [
    {
     "data": {
      "text/plain": [
       "5.0"
      ]
     },
     "execution_count": 41,
     "metadata": {},
     "output_type": "execute_result"
    }
   ],
   "source": [
    "#Math library\n",
    "#عمل جذر\n",
    "np.math.sqrt(25)"
   ]
  },
  {
   "cell_type": "code",
   "execution_count": 42,
   "id": "35183dcf",
   "metadata": {},
   "outputs": [
    {
     "data": {
      "text/plain": [
       "nan"
      ]
     },
     "execution_count": 42,
     "metadata": {},
     "output_type": "execute_result"
    }
   ],
   "source": [
    "#ایجاد فضای تهی\n",
    "np.math.nan"
   ]
  },
  {
   "cell_type": "code",
   "execution_count": 43,
   "id": "6929cb76",
   "metadata": {},
   "outputs": [
    {
     "data": {
      "text/plain": [
       "inf"
      ]
     },
     "execution_count": 43,
     "metadata": {},
     "output_type": "execute_result"
    }
   ],
   "source": [
    "#مقدار بینهایت\n",
    "np.math.inf"
   ]
  },
  {
   "cell_type": "code",
   "execution_count": 44,
   "id": "6d93b14f",
   "metadata": {},
   "outputs": [
    {
     "data": {
      "text/plain": [
       "array([[3.58664586, 4.58157204, 2.76462047],\n",
       "       [1.0679053 , 4.0895645 , 2.95476542],\n",
       "       [1.12228463, 3.93429901, 2.21155682]])"
      ]
     },
     "execution_count": 44,
     "metadata": {},
     "output_type": "execute_result"
    }
   ],
   "source": [
    "#ایجاد عدد رندم با توزیع یکنواخت پیوسته\n",
    "np.random.uniform(1,5,[3,3])"
   ]
  },
  {
   "cell_type": "code",
   "execution_count": 46,
   "id": "cec5acd7",
   "metadata": {},
   "outputs": [
    {
     "data": {
      "text/plain": [
       "array([[-0.90482532, -1.34668516, -2.2917001 , -0.00381511, -0.59588765],\n",
       "       [ 1.18261782,  0.15101169,  0.49880389,  0.77279516, -0.14507536],\n",
       "       [ 0.00452181,  0.02542315,  0.52111825,  0.72472131,  0.59936979]])"
      ]
     },
     "execution_count": 46,
     "metadata": {},
     "output_type": "execute_result"
    }
   ],
   "source": [
    "#ایجاد عدد رندم با توزیع نرمال\n",
    "np.random.standard_normal((3,5))"
   ]
  },
  {
   "cell_type": "code",
   "execution_count": 49,
   "id": "40c5bed0",
   "metadata": {},
   "outputs": [
    {
     "data": {
      "text/plain": [
       "array([1., 4., 7.])"
      ]
     },
     "execution_count": 49,
     "metadata": {},
     "output_type": "execute_result"
    }
   ],
   "source": [
    "#برای ایجاد دنباله ای از اعداد از این دو روش می توان استفاده کرد\n",
    "#np.arange(start,stop,step)\n",
    "#np.linspace(start,stop,num)\n",
    "#در زیر میخواهیم بگوییم بین 1 تا 10 یک رشته عدد که بین هر عدد 3 عدد فاصله است را ایجاد کن\n",
    "#نکته ای که در اینجا وجود دارد این است که در این روش عدد نهایی در آرایه هرگز قرار نخواهد گرفت\n",
    "\n",
    "np.arange(1,10,3,dtype='float')"
   ]
  },
  {
   "cell_type": "code",
   "execution_count": 50,
   "id": "f8e7d4d6",
   "metadata": {},
   "outputs": [
    {
     "data": {
      "text/plain": [
       "array([ 1.    ,  1.5625,  2.125 ,  2.6875,  3.25  ,  3.8125,  4.375 ,\n",
       "        4.9375,  5.5   ,  6.0625,  6.625 ,  7.1875,  7.75  ,  8.3125,\n",
       "        8.875 ,  9.4375, 10.    ])"
      ]
     },
     "execution_count": 50,
     "metadata": {},
     "output_type": "execute_result"
    }
   ],
   "source": [
    "#اگر بخواهیم بین 1 تا 10 برای ما 17 عدد ایجاد کند و فاصله بین آنها مهم نباشد به صورت زیر عمل می کنیم\n",
    "np.linspace(1,10,17,dtype='float')"
   ]
  },
  {
   "cell_type": "code",
   "execution_count": 51,
   "id": "03a0c4ab",
   "metadata": {},
   "outputs": [
    {
     "data": {
      "text/plain": [
       "array([[1, 2],\n",
       "       [3, 4]])"
      ]
     },
     "execution_count": 51,
     "metadata": {},
     "output_type": "execute_result"
    }
   ],
   "source": [
    "#Mask\n",
    "# برای فیلتر کردن آرایه ها از روش های زیر استفاده می کنیم\n",
    "a"
   ]
  },
  {
   "cell_type": "code",
   "execution_count": 52,
   "id": "ba2178eb",
   "metadata": {},
   "outputs": [
    {
     "data": {
      "text/plain": [
       "array([3, 4])"
      ]
     },
     "execution_count": 52,
     "metadata": {},
     "output_type": "execute_result"
    }
   ],
   "source": [
    "mask=a>2\n",
    "a[mask]"
   ]
  },
  {
   "cell_type": "code",
   "execution_count": 55,
   "id": "77a90641",
   "metadata": {},
   "outputs": [
    {
     "data": {
      "text/plain": [
       "array([2, 3])"
      ]
     },
     "execution_count": 55,
     "metadata": {},
     "output_type": "execute_result"
    }
   ],
   "source": [
    "mask2=np.logical_and(a>1,a<4)\n",
    "a[mask2]"
   ]
  },
  {
   "cell_type": "code",
   "execution_count": 59,
   "id": "85597e49",
   "metadata": {},
   "outputs": [
    {
     "data": {
      "text/plain": [
       "array([[0., 0., 0.],\n",
       "       [0., 0., 0.],\n",
       "       [0., 0., 0.]])"
      ]
     },
     "execution_count": 59,
     "metadata": {},
     "output_type": "execute_result"
    }
   ],
   "source": [
    "#برای ایجاد آرایه دلخواه با مقادیر 1 از عبارت زیر استفاده می کردیم\n",
    "#np.onces((3,3))\n",
    "#برای ایجاد آرایه دلخواه با دریایه های 0 باید از کد زیر استفاده کرد\n",
    "np.zeros((3,3))"
   ]
  },
  {
   "cell_type": "code",
   "execution_count": 63,
   "id": "48614041",
   "metadata": {},
   "outputs": [
    {
     "data": {
      "text/plain": [
       "4"
      ]
     },
     "execution_count": 63,
     "metadata": {},
     "output_type": "execute_result"
    }
   ],
   "source": [
    "#برای نمایش انداژه آرایه می توان از دستور زیر استفاده کرد\n",
    "np.size(a)"
   ]
  },
  {
   "cell_type": "code",
   "execution_count": 65,
   "id": "13e16c94",
   "metadata": {},
   "outputs": [
    {
     "data": {
      "text/plain": [
       "(2, 2)"
      ]
     },
     "execution_count": 65,
     "metadata": {},
     "output_type": "execute_result"
    }
   ],
   "source": [
    "#برای دانستن نوع آرایه نیز به صورت زیر عمل می کنیم\n",
    "np.shape(a)\n",
    "#میگوید که یک آرایه 2 در 2 است"
   ]
  },
  {
   "cell_type": "code",
   "execution_count": 66,
   "id": "a088ab21",
   "metadata": {},
   "outputs": [
    {
     "data": {
      "text/plain": [
       "array([1, 2, 3, 4, 5, 6])"
      ]
     },
     "execution_count": 66,
     "metadata": {},
     "output_type": "execute_result"
    }
   ],
   "source": [
    "# برای حذف تکرار و نمایش دیتای یکتا به صورت زیر عمل می کنیم\n",
    "a = ([1,2,3,4,5,6,5,4,3,1])\n",
    "np.unique(a)"
   ]
  },
  {
   "cell_type": "code",
   "execution_count": 67,
   "id": "5ec7a31a",
   "metadata": {},
   "outputs": [
    {
     "data": {
      "text/plain": [
       "array([1, 2, 3, 4, 5, 6, 7, 8, 9])"
      ]
     },
     "execution_count": 67,
     "metadata": {},
     "output_type": "execute_result"
    }
   ],
   "source": [
    "a=([1,2,3,4,5,6])\n",
    "b=([4,5,6,7,8,9])\n",
    "\n",
    "#اتحاد دو آرایه قوق\n",
    "np.union1d(a,b)"
   ]
  },
  {
   "cell_type": "code",
   "execution_count": 68,
   "id": "aa8d660b",
   "metadata": {},
   "outputs": [
    {
     "data": {
      "text/plain": [
       "array([4, 5, 6])"
      ]
     },
     "execution_count": 68,
     "metadata": {},
     "output_type": "execute_result"
    }
   ],
   "source": [
    "#اشتراک دو آرایه قوق\n",
    "np.intersect1d(a,b)"
   ]
  },
  {
   "cell_type": "code",
   "execution_count": 69,
   "id": "c2e10264",
   "metadata": {},
   "outputs": [
    {
     "data": {
      "text/plain": [
       "3.5"
      ]
     },
     "execution_count": 69,
     "metadata": {},
     "output_type": "execute_result"
    }
   ],
   "source": [
    "#نمایش میانه\n",
    "np.mean(a)"
   ]
  },
  {
   "cell_type": "code",
   "execution_count": 70,
   "id": "40c1bc1c",
   "metadata": {},
   "outputs": [
    {
     "data": {
      "text/plain": [
       "3.5"
      ]
     },
     "execution_count": 70,
     "metadata": {},
     "output_type": "execute_result"
    }
   ],
   "source": [
    "#مقدار میانه\n",
    "np.median(a)"
   ]
  },
  {
   "cell_type": "code",
   "execution_count": 72,
   "id": "b27badff",
   "metadata": {},
   "outputs": [
    {
     "data": {
      "text/plain": [
       "1.707825127659933"
      ]
     },
     "execution_count": 72,
     "metadata": {},
     "output_type": "execute_result"
    }
   ],
   "source": [
    "#تقسیم استاندارد\n",
    "np.std(a)"
   ]
  },
  {
   "cell_type": "code",
   "execution_count": 73,
   "id": "cab9c29d",
   "metadata": {},
   "outputs": [
    {
     "data": {
      "text/plain": [
       "2.9166666666666665"
      ]
     },
     "execution_count": 73,
     "metadata": {},
     "output_type": "execute_result"
    }
   ],
   "source": [
    "#واریانس\n",
    "np.var(a)"
   ]
  },
  {
   "cell_type": "code",
   "execution_count": 4,
   "id": "b98062bf",
   "metadata": {},
   "outputs": [
    {
     "data": {
      "text/plain": [
       "array([1, 1, 2])"
      ]
     },
     "execution_count": 4,
     "metadata": {},
     "output_type": "execute_result"
    }
   ],
   "source": [
    "#فرض کنید یک چند جمله ای مانند مثال زیر داریم\n",
    "#x^2+x+2=0\n",
    "#برای نمایش این چند جمله ای به صورت زیر عمل می کنیم\n",
    "coeff = np.array([1,1,2])\n",
    "# از راست عدد 2 ضریب ثابت، 1 اول همان ایکس و 1 دوم ایکس به توان دو است\n",
    "coeff"
   ]
  },
  {
   "cell_type": "code",
   "execution_count": 5,
   "id": "647a8da8",
   "metadata": {},
   "outputs": [
    {
     "data": {
      "text/plain": [
       "8"
      ]
     },
     "execution_count": 5,
     "metadata": {},
     "output_type": "execute_result"
    }
   ],
   "source": [
    "#حالا اگه بخوایم این چند جمله ای رو با یه ایکس مورد نظر حل کنیم، میشه:\n",
    "np.polyval(coeff,2)"
   ]
  },
  {
   "cell_type": "code",
   "execution_count": 7,
   "id": "e559a4f5",
   "metadata": {},
   "outputs": [
    {
     "data": {
      "text/plain": [
       "array([2, 1])"
      ]
     },
     "execution_count": 7,
     "metadata": {},
     "output_type": "execute_result"
    }
   ],
   "source": [
    "# اگه بخوایم مشتق این چند جمله ای رو بگیریم میشه\n",
    "np.polyder(coeff)\n",
    "#result = 2x+1"
   ]
  },
  {
   "cell_type": "code",
   "execution_count": 9,
   "id": "ca72f7f9",
   "metadata": {},
   "outputs": [
    {
     "data": {
      "text/plain": [
       "array([0.33333333, 0.5       , 2.        , 0.        ])"
      ]
     },
     "execution_count": 9,
     "metadata": {},
     "output_type": "execute_result"
    }
   ],
   "source": [
    "#انتگرال چند جمله ای نیز به این صورت حل خواهد شد\n",
    "np.polyint(coeff)\n",
    "#result= (x^3)/3 + (x^2)/2 + 2x +0"
   ]
  },
  {
   "cell_type": "code",
   "execution_count": null,
   "id": "394c7e59",
   "metadata": {},
   "outputs": [],
   "source": []
  }
 ],
 "metadata": {
  "kernelspec": {
   "display_name": "Python 3 (ipykernel)",
   "language": "python",
   "name": "python3"
  },
  "language_info": {
   "codemirror_mode": {
    "name": "ipython",
    "version": 3
   },
   "file_extension": ".py",
   "mimetype": "text/x-python",
   "name": "python",
   "nbconvert_exporter": "python",
   "pygments_lexer": "ipython3",
   "version": "3.9.13"
  }
 },
 "nbformat": 4,
 "nbformat_minor": 5
}
